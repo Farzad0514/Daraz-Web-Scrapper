{
 "cells": [
  {
   "cell_type": "code",
   "execution_count": 3,
   "metadata": {},
   "outputs": [],
   "source": [
    "import requests\n",
    "import json\n",
    "from bs4 import BeautifulSoup\n",
    "import os\n",
    "import pandas\n",
    "import urllib3\n",
    "import random"
   ]
  },
  {
   "cell_type": "code",
   "execution_count": 4,
   "metadata": {},
   "outputs": [
    {
     "data": {
      "text/plain": [
       "{'origin': '145.239.121.218'}"
      ]
     },
     "execution_count": 4,
     "metadata": {},
     "output_type": "execute_result"
    }
   ],
   "source": [
    "proxies= {\n",
    "     \"https\": \"145.239.121.218:3129\", \"http\": \"145.239.121.218:3129\"\n",
    "}\n",
    "\n",
    "checkProxyApi = \"https://httpbin.org/ip\"\n",
    "checkProxyIp= requests.get(checkProxyApi, proxies=proxies)\n",
    "checkProxyIp.json()"
   ]
  },
  {
   "cell_type": "code",
   "execution_count": 5,
   "metadata": {},
   "outputs": [],
   "source": [
    "url=\"https://www.daraz.pk/bath/?ajax=true&page=1\""
   ]
  },
  {
   "cell_type": "code",
   "execution_count": 6,
   "metadata": {},
   "outputs": [
    {
     "name": "stdout",
     "output_type": "stream",
     "text": [
      "200\n"
     ]
    }
   ],
   "source": [
    "user_agent_list = [\n",
    "    'Mozilla/5.0 (Macintosh; Intel Mac OS X 10_15_5) AppleWebKit/605.1.15 (KHTML, like Gecko) Version/13.1.1 Safari/605.1.15',\n",
    "    'Mozilla/5.0 (Windows NT 10.0; Win64; x64; rv:77.0) Gecko/20100101 Firefox/77.0',\n",
    "    'Mozilla/5.0 (Macintosh; Intel Mac OS X 10_15_5) AppleWebKit/537.36 (KHTML, like Gecko) Chrome/83.0.4103.97 Safari/537.36',\n",
    "    'Mozilla/5.0 (Macintosh; Intel Mac OS X 10.15; rv:77.0) Gecko/20100101 Firefox/77.0',\n",
    "    'Mozilla/5.0 (Windows NT 10.0; Win64; x64) AppleWebKit/537.36 (KHTML, like Gecko) Chrome/83.0.4103.97 Safari/537.36',\n",
    "]\n",
    "\n",
    "for i in range(1,4):\n",
    "    #Pick a random user agent\n",
    "    user_agent = random.choice(user_agent_list)\n",
    "    #Set the headers \n",
    "    headers = {'User-Agent': user_agent}\n",
    "    #Make the request\n",
    "    res = requests.get(url,headers=headers,proxies=proxies)\n",
    "\n",
    "    \n",
    "print(res.status_code)"
   ]
  },
  {
   "cell_type": "code",
   "execution_count": 7,
   "metadata": {},
   "outputs": [],
   "source": [
    "#os.chdir(r'C:\\Users\\Farzad\\Python')\n",
    "#os.mkdir('daraz') \n",
    "#os.chdir(r'C:\\Users\\Farzad\\Python\\daraz')\n",
    "#url=\"https://www.daraz.pk/bath/?ajax=true&page=1\"\n",
    "#ctgUrl=\"https://www.daraz.pk/bath/\"\n",
    "#ctgRes=requests.get(ctgUrl)\n",
    "#res=requests.get(url)"
   ]
  },
  {
   "cell_type": "code",
   "execution_count": null,
   "metadata": {},
   "outputs": [],
   "source": []
  },
  {
   "cell_type": "code",
   "execution_count": 8,
   "metadata": {},
   "outputs": [],
   "source": [
    "#print(\"Request #%d\\nUser-Agent Sent:%s\\n\\nHeaders Recevied by HTTPBin:\"%(i,user_agent))"
   ]
  },
  {
   "cell_type": "code",
   "execution_count": 9,
   "metadata": {},
   "outputs": [],
   "source": [
    "#from fake_useragent import UserAgent\n"
   ]
  },
  {
   "cell_type": "code",
   "execution_count": 10,
   "metadata": {},
   "outputs": [],
   "source": [
    "#ua = UserAgent()"
   ]
  },
  {
   "cell_type": "code",
   "execution_count": 11,
   "metadata": {},
   "outputs": [],
   "source": [
    "#print(ua)"
   ]
  },
  {
   "cell_type": "code",
   "execution_count": 12,
   "metadata": {},
   "outputs": [],
   "source": [
    "#soup=BeautifulSoup(ctgRes.content, \"html.parser\")"
   ]
  },
  {
   "cell_type": "code",
   "execution_count": 13,
   "metadata": {},
   "outputs": [],
   "source": [
    "#pageend=soup.find(\"class\", \"ant-pagination\")\n",
    "#print(pageend)"
   ]
  },
  {
   "cell_type": "code",
   "execution_count": 14,
   "metadata": {},
   "outputs": [],
   "source": [
    "#res.content"
   ]
  },
  {
   "cell_type": "code",
   "execution_count": 8,
   "metadata": {},
   "outputs": [],
   "source": [
    "#todos = json.loads(res.text)\n",
    "#todos"
   ]
  },
  {
   "cell_type": "code",
   "execution_count": 16,
   "metadata": {},
   "outputs": [],
   "source": [
    "#type(todos)"
   ]
  },
  {
   "cell_type": "code",
   "execution_count": 17,
   "metadata": {},
   "outputs": [],
   "source": [
    "#listitems= todos['mods']['listItems']\n",
    "#listitems"
   ]
  },
  {
   "cell_type": "code",
   "execution_count": 18,
   "metadata": {},
   "outputs": [],
   "source": [
    "#len(listitems)"
   ]
  },
  {
   "cell_type": "code",
   "execution_count": 19,
   "metadata": {},
   "outputs": [],
   "source": [
    "#type(listitems)"
   ]
  },
  {
   "cell_type": "code",
   "execution_count": 20,
   "metadata": {},
   "outputs": [],
   "source": [
    "#pageNo= int(todos['mainInfo']['page'])\n",
    "#pageNo"
   ]
  },
  {
   "cell_type": "code",
   "execution_count": 2,
   "metadata": {},
   "outputs": [],
   "source": [
    "#listitems[0]"
   ]
  },
  {
   "cell_type": "code",
   "execution_count": 22,
   "metadata": {
    "scrolled": true
   },
   "outputs": [],
   "source": [
    "#listitems[0]['originalPrice']"
   ]
  },
  {
   "cell_type": "code",
   "execution_count": 23,
   "metadata": {},
   "outputs": [],
   "source": [
    "#listitems[0]['productUrl'].replace(\"//www\", \"www\")"
   ]
  },
  {
   "cell_type": "code",
   "execution_count": 24,
   "metadata": {},
   "outputs": [],
   "source": [
    "#listitems[0]['itemId']"
   ]
  },
  {
   "cell_type": "code",
   "execution_count": 25,
   "metadata": {},
   "outputs": [],
   "source": [
    "#listitems[15]['review']"
   ]
  },
  {
   "cell_type": "code",
   "execution_count": 26,
   "metadata": {},
   "outputs": [],
   "source": [
    "#df=pd.read(todos)"
   ]
  },
  {
   "cell_type": "code",
   "execution_count": 27,
   "metadata": {
    "scrolled": true
   },
   "outputs": [],
   "source": [
    "#m.to_csv(\"Output.csv\")"
   ]
  },
  {
   "cell_type": "code",
   "execution_count": 28,
   "metadata": {
    "scrolled": true
   },
   "outputs": [],
   "source": [
    "#import pandas\n",
    "#df=pandas.DataFrame(res)"
   ]
  },
  {
   "cell_type": "code",
   "execution_count": 29,
   "metadata": {},
   "outputs": [],
   "source": [
    "#df"
   ]
  },
  {
   "cell_type": "markdown",
   "metadata": {},
   "source": [
    "for i in range(1,40):\n",
    "    print(listitems[i]['name'])\n",
    "    print(listitems[i]['productUrl'])\n",
    "    print(listitems[i]['priceShow'])\n",
    "    try: print(listitems[i]['discount'])\n",
    "    except: print(None)\n",
    "    print(listitems[i]['ratingScore'])\n",
    "    print(listitems[i]['inStock'])\n",
    "    print(listitems[i]['location'])\n",
    "    print(listitems[i]['image'])\n",
    "    print(listitems[i]['sellerName'])\n",
    "    print(listitems[i]['brandName'])\n",
    "    print(listitems[i]['sellerId'])\n",
    "    print()"
   ]
  },
  {
   "cell_type": "code",
   "execution_count": 9,
   "metadata": {},
   "outputs": [],
   "source": [
    "from time import sleep\n",
    "from random import randint"
   ]
  },
  {
   "cell_type": "code",
   "execution_count": 10,
   "metadata": {},
   "outputs": [
    {
     "name": "stdout",
     "output_type": "stream",
     "text": [
      "https://www.daraz.pk/womens-fashion/?ajax=true&page=68&rating=3\n",
      "Request #3\n",
      "User-Agent Sent:Mozilla/5.0 (Windows NT 10.0; Win64; x64; rv:77.0) Gecko/20100101 Firefox/77.0\n",
      "\n",
      "Headers Recevied by HTTPBin:\n",
      "200\n"
     ]
    },
    {
     "ename": "KeyError",
     "evalue": "'listItems'",
     "output_type": "error",
     "traceback": [
      "\u001b[1;31m---------------------------------------------------------------------------\u001b[0m",
      "\u001b[1;31mKeyError\u001b[0m                                  Traceback (most recent call last)",
      "\u001b[1;32m<ipython-input-10-dfa4a518e81a>\u001b[0m in \u001b[0;36m<module>\u001b[1;34m\u001b[0m\n\u001b[0;32m     27\u001b[0m     \u001b[1;31m#len(all)\u001b[0m\u001b[1;33m\u001b[0m\u001b[1;33m\u001b[0m\u001b[1;33m\u001b[0m\u001b[0m\n\u001b[0;32m     28\u001b[0m     \u001b[0mtodos\u001b[0m \u001b[1;33m=\u001b[0m \u001b[0mjson\u001b[0m\u001b[1;33m.\u001b[0m\u001b[0mloads\u001b[0m\u001b[1;33m(\u001b[0m\u001b[0mres\u001b[0m\u001b[1;33m.\u001b[0m\u001b[0mtext\u001b[0m\u001b[1;33m)\u001b[0m\u001b[1;33m\u001b[0m\u001b[1;33m\u001b[0m\u001b[0m\n\u001b[1;32m---> 29\u001b[1;33m     \u001b[0mlistitems\u001b[0m\u001b[1;33m=\u001b[0m \u001b[0mtodos\u001b[0m\u001b[1;33m[\u001b[0m\u001b[1;34m'mods'\u001b[0m\u001b[1;33m]\u001b[0m\u001b[1;33m[\u001b[0m\u001b[1;34m'listItems'\u001b[0m\u001b[1;33m]\u001b[0m\u001b[1;33m\u001b[0m\u001b[1;33m\u001b[0m\u001b[0m\n\u001b[0m\u001b[0;32m     30\u001b[0m     \u001b[0mpageSize\u001b[0m\u001b[1;33m=\u001b[0m \u001b[0mtodos\u001b[0m\u001b[1;33m[\u001b[0m\u001b[1;34m'mainInfo'\u001b[0m\u001b[1;33m]\u001b[0m\u001b[1;33m[\u001b[0m\u001b[1;34m'pageSize'\u001b[0m\u001b[1;33m]\u001b[0m\u001b[1;33m\u001b[0m\u001b[1;33m\u001b[0m\u001b[0m\n\u001b[0;32m     31\u001b[0m     \u001b[1;31m#p=p+1\u001b[0m\u001b[1;33m\u001b[0m\u001b[1;33m\u001b[0m\u001b[1;33m\u001b[0m\u001b[0m\n",
      "\u001b[1;31mKeyError\u001b[0m: 'listItems'"
     ]
    }
   ],
   "source": [
    "l=[]\n",
    "base_url=(\"https://www.daraz.pk/womens-fashion/?ajax=true&page=\")\n",
    "part_url=(\"&rating=3\")\n",
    "#for i in range(1,4):\n",
    "    #Pick a random user agent\n",
    "    #user_agent = random.choice(user_agent_list)\n",
    "    #Set the headers \n",
    "    #headers = {'User-Agent': user_agent}\n",
    "    #Make the request\n",
    "    #res = requests.get(base_url,headers=headers)\n",
    "\n",
    "#p+=pageNo\n",
    "p=102+1\n",
    "#pageNo= int(todos['mainInfo']['page'])\n",
    "for page in range(68,p):\n",
    "    user_agent = random.choice(user_agent_list)\n",
    "    #Set the headers \n",
    "    headers = {'User-Agent': user_agent}\n",
    "    print(base_url+str(page)+part_url)\n",
    "    res=requests.get(base_url+str(page)+part_url,headers=headers,proxies=proxies)\n",
    "    print(\"Request #%d\\nUser-Agent Sent:%s\\n\\nHeaders Recevied by HTTPBin:\"%(i,user_agent))\n",
    "    print(res.status_code)\n",
    "    #print(site.status_code)\n",
    "    #soup=BeautifulSoup(site.content, \"html.parser\")\n",
    "    #print(soup.prettify())\n",
    "    #all=soup.find_all(\"div\", {\"class\": [\"product-info\"]})\n",
    "    #len(all)\n",
    "    todos = json.loads(res.text)\n",
    "    listitems= todos['mods']['listItems']\n",
    "    pageSize= todos['mainInfo']['pageSize']\n",
    "    #p=p+1\n",
    "    sleep(randint(12,20))\n",
    "\n",
    "    for i in range(0, int(pageSize)):\n",
    "        d={}\n",
    "        d['name']=listitems[i]['name']\n",
    "        d['productUrl']=listitems[i]['productUrl'].replace(\"//www\", \"www\")\n",
    "        try: d['originalPrice']=listitems[i]['originalPrice']\n",
    "        except: d['originalPrice']=None\n",
    "        try: d['price']=listitems[i]['price']\n",
    "        except: d['price']=None\n",
    "        try: d['discount']=listitems[i]['discount']\n",
    "        except:d['discount']= None\n",
    "        try: d['ratingScore']=listitems[i]['ratingScore']\n",
    "        except: d['ratingScore']=None\n",
    "        try: d['review']=listitems[i]['review']\n",
    "        except: d['review']=None            \n",
    "        try: d['inStock']=listitems[i]['inStock']\n",
    "        except: d['inStock']=None\n",
    "        try: d['location']=listitems[i]['location']\n",
    "        except: d['location']=None\n",
    "        d['image']=listitems[i]['image']\n",
    "        d['Seller Name']=listitems[i]['sellerName']\n",
    "        try: d['Brand Name']=listitems[i]['brandName']\n",
    "        except: d['Brand Name']=None\n",
    "        d['Seller Id']=listitems[i]['sellerId']\n",
    "        try: d['Item Id']=listitems[i]['itemId']\n",
    "        except: d['Item Id']=None\n",
    "        l.append(d)\n",
    "    "
   ]
  },
  {
   "cell_type": "code",
   "execution_count": null,
   "metadata": {},
   "outputs": [],
   "source": [
    "len(l)"
   ]
  },
  {
   "cell_type": "code",
   "execution_count": 82,
   "metadata": {},
   "outputs": [],
   "source": [
    "#l"
   ]
  },
  {
   "cell_type": "code",
   "execution_count": 83,
   "metadata": {},
   "outputs": [],
   "source": [
    "df=pandas.DataFrame(l)"
   ]
  },
  {
   "cell_type": "code",
   "execution_count": 84,
   "metadata": {},
   "outputs": [
    {
     "data": {
      "text/html": [
       "<div>\n",
       "<style scoped>\n",
       "    .dataframe tbody tr th:only-of-type {\n",
       "        vertical-align: middle;\n",
       "    }\n",
       "\n",
       "    .dataframe tbody tr th {\n",
       "        vertical-align: top;\n",
       "    }\n",
       "\n",
       "    .dataframe thead th {\n",
       "        text-align: right;\n",
       "    }\n",
       "</style>\n",
       "<table border=\"1\" class=\"dataframe\">\n",
       "  <thead>\n",
       "    <tr style=\"text-align: right;\">\n",
       "      <th></th>\n",
       "      <th>name</th>\n",
       "      <th>productUrl</th>\n",
       "      <th>originalPrice</th>\n",
       "      <th>price</th>\n",
       "      <th>discount</th>\n",
       "      <th>ratingScore</th>\n",
       "      <th>review</th>\n",
       "      <th>inStock</th>\n",
       "      <th>location</th>\n",
       "      <th>image</th>\n",
       "      <th>Seller Name</th>\n",
       "      <th>Brand Name</th>\n",
       "      <th>Seller Id</th>\n",
       "      <th>Item Id</th>\n",
       "    </tr>\n",
       "  </thead>\n",
       "  <tbody>\n",
       "    <tr>\n",
       "      <th>0</th>\n",
       "      <td>Silk Bikini Set For Women</td>\n",
       "      <td>www.daraz.pk/products/silk-bikini-set-for-wome...</td>\n",
       "      <td>700.00</td>\n",
       "      <td>399.00</td>\n",
       "      <td>-43%</td>\n",
       "      <td>5</td>\n",
       "      <td>1</td>\n",
       "      <td>True</td>\n",
       "      <td>Pakistan</td>\n",
       "      <td>https://static-01.daraz.pk/p/4b4634146065c2e94...</td>\n",
       "      <td>Eighty4</td>\n",
       "      <td>Eighty4</td>\n",
       "      <td>6005007810287</td>\n",
       "      <td>139468462</td>\n",
       "    </tr>\n",
       "    <tr>\n",
       "      <th>1</th>\n",
       "      <td>Bikinis Bra Set For Women</td>\n",
       "      <td>www.daraz.pk/products/bikinis-bra-set-for-wome...</td>\n",
       "      <td>1000.00</td>\n",
       "      <td>549.00</td>\n",
       "      <td>-45%</td>\n",
       "      <td>5</td>\n",
       "      <td>1</td>\n",
       "      <td>True</td>\n",
       "      <td>Pakistan</td>\n",
       "      <td>https://static-01.daraz.pk/p/dd76199c416097c7e...</td>\n",
       "      <td>LHR-eStore</td>\n",
       "      <td>LHR-eStore</td>\n",
       "      <td>6005010273052</td>\n",
       "      <td>167244427</td>\n",
       "    </tr>\n",
       "    <tr>\n",
       "      <th>2</th>\n",
       "      <td>Pack Of 3 - Satin Silk Bikini Panty And Bra Sets</td>\n",
       "      <td>www.daraz.pk/products/pack-of-3-satin-silk-bik...</td>\n",
       "      <td>None</td>\n",
       "      <td>999.00</td>\n",
       "      <td>None</td>\n",
       "      <td>5</td>\n",
       "      <td>1</td>\n",
       "      <td>True</td>\n",
       "      <td>Pakistan</td>\n",
       "      <td>https://static-01.daraz.pk/p/92975c0f43035c7e8...</td>\n",
       "      <td>BSM DISTRIBUTOR</td>\n",
       "      <td>BSM DISTRIBUTORS</td>\n",
       "      <td>1057017</td>\n",
       "      <td>143666427</td>\n",
       "    </tr>\n",
       "    <tr>\n",
       "      <th>3</th>\n",
       "      <td>Women Stylish Pearl Beads Kurti Pajama Suit</td>\n",
       "      <td>www.daraz.pk/products/women-stylish-pearl-bead...</td>\n",
       "      <td>1700.00</td>\n",
       "      <td>1399.00</td>\n",
       "      <td>-18%</td>\n",
       "      <td>4.61538</td>\n",
       "      <td>13</td>\n",
       "      <td>True</td>\n",
       "      <td>Pakistan</td>\n",
       "      <td>https://static-01.daraz.pk/p/mdc/7f7675ef1b1be...</td>\n",
       "      <td>Arsalan Aleem (Karachi)</td>\n",
       "      <td>IDOL Fashion</td>\n",
       "      <td>1621</td>\n",
       "      <td>146548225</td>\n",
       "    </tr>\n",
       "    <tr>\n",
       "      <th>4</th>\n",
       "      <td>Bikini Bra Sets Halter bikini Triangle cup imi...</td>\n",
       "      <td>www.daraz.pk/products/bikini-bra-sets-halter-b...</td>\n",
       "      <td>789.00</td>\n",
       "      <td>334</td>\n",
       "      <td>-58%</td>\n",
       "      <td>5</td>\n",
       "      <td>1</td>\n",
       "      <td>True</td>\n",
       "      <td>Pakistan</td>\n",
       "      <td>https://static-01.daraz.pk/p/mdc/ae570cb3090f9...</td>\n",
       "      <td>Sassy Secrets</td>\n",
       "      <td>Hotzzz</td>\n",
       "      <td>1059459</td>\n",
       "      <td>129256223</td>\n",
       "    </tr>\n",
       "    <tr>\n",
       "      <th>...</th>\n",
       "      <td>...</td>\n",
       "      <td>...</td>\n",
       "      <td>...</td>\n",
       "      <td>...</td>\n",
       "      <td>...</td>\n",
       "      <td>...</td>\n",
       "      <td>...</td>\n",
       "      <td>...</td>\n",
       "      <td>...</td>\n",
       "      <td>...</td>\n",
       "      <td>...</td>\n",
       "      <td>...</td>\n",
       "      <td>...</td>\n",
       "      <td>...</td>\n",
       "    </tr>\n",
       "    <tr>\n",
       "      <th>675</th>\n",
       "      <td>Linen Chunri 3 Piece Suit for Women</td>\n",
       "      <td>www.daraz.pk/products/linen-chunri-3-piece-sui...</td>\n",
       "      <td>2950.00</td>\n",
       "      <td>2150.00</td>\n",
       "      <td>-27%</td>\n",
       "      <td>5</td>\n",
       "      <td>1</td>\n",
       "      <td>True</td>\n",
       "      <td>Pakistan</td>\n",
       "      <td>https://static-01.daraz.pk/p/3cce06144e4f9409a...</td>\n",
       "      <td>Qasoor Makesh and Chunri House</td>\n",
       "      <td>Qasoor Makesh and Chunri House</td>\n",
       "      <td>1145205</td>\n",
       "      <td>152612596</td>\n",
       "    </tr>\n",
       "    <tr>\n",
       "      <th>676</th>\n",
       "      <td>chiffon embroidery suit chiffon embroidery dup...</td>\n",
       "      <td>www.daraz.pk/products/party-wear-wedding-wear-...</td>\n",
       "      <td>6400.00</td>\n",
       "      <td>3465</td>\n",
       "      <td>-46%</td>\n",
       "      <td>5</td>\n",
       "      <td>1</td>\n",
       "      <td>True</td>\n",
       "      <td>Pakistan</td>\n",
       "      <td>https://static-01.daraz.pk/p/b04592557c5533202...</td>\n",
       "      <td>one world cloth</td>\n",
       "      <td>cloth suit</td>\n",
       "      <td>1104773</td>\n",
       "      <td>132398592</td>\n",
       "    </tr>\n",
       "    <tr>\n",
       "      <th>677</th>\n",
       "      <td>Breathable Pregnant Ladies Postpartum Large Si...</td>\n",
       "      <td>www.daraz.pk/products/breathable-pregnant-ladi...</td>\n",
       "      <td>1000.00</td>\n",
       "      <td>649.00</td>\n",
       "      <td>-35%</td>\n",
       "      <td>5</td>\n",
       "      <td>1</td>\n",
       "      <td>True</td>\n",
       "      <td>Pakistan</td>\n",
       "      <td>https://static-01.daraz.pk/p/06a23c2f8decb984e...</td>\n",
       "      <td>Hedge Over Mall</td>\n",
       "      <td>Hedge Over</td>\n",
       "      <td>1045320</td>\n",
       "      <td>150686837</td>\n",
       "    </tr>\n",
       "    <tr>\n",
       "      <th>678</th>\n",
       "      <td>New Collection As Fashion Night wear Trousers ...</td>\n",
       "      <td>www.daraz.pk/products/new-collection-as-fashio...</td>\n",
       "      <td>1399.00</td>\n",
       "      <td>999.00</td>\n",
       "      <td>-29%</td>\n",
       "      <td>4</td>\n",
       "      <td>2</td>\n",
       "      <td>True</td>\n",
       "      <td>Pakistan</td>\n",
       "      <td>https://static-01.daraz.pk/p/390a7966cda7dba26...</td>\n",
       "      <td>As fashion</td>\n",
       "      <td>As uddin</td>\n",
       "      <td>1037667</td>\n",
       "      <td>153268085</td>\n",
       "    </tr>\n",
       "    <tr>\n",
       "      <th>679</th>\n",
       "      <td>Pack of 3 Breathable Soft Cotton Sports Pantie...</td>\n",
       "      <td>www.daraz.pk/products/pack-of-3-breathable-sof...</td>\n",
       "      <td>999.00</td>\n",
       "      <td>699.00</td>\n",
       "      <td>-30%</td>\n",
       "      <td>4</td>\n",
       "      <td>4</td>\n",
       "      <td>True</td>\n",
       "      <td>Pakistan</td>\n",
       "      <td>https://static-01.daraz.pk/p/0d33cf1eda2dbc121...</td>\n",
       "      <td>Shezz bro Industries (Rawalpindi)</td>\n",
       "      <td>shezz</td>\n",
       "      <td>25123</td>\n",
       "      <td>139678081</td>\n",
       "    </tr>\n",
       "  </tbody>\n",
       "</table>\n",
       "<p>680 rows × 14 columns</p>\n",
       "</div>"
      ],
      "text/plain": [
       "                                                  name  \\\n",
       "0                            Silk Bikini Set For Women   \n",
       "1                            Bikinis Bra Set For Women   \n",
       "2     Pack Of 3 - Satin Silk Bikini Panty And Bra Sets   \n",
       "3          Women Stylish Pearl Beads Kurti Pajama Suit   \n",
       "4    Bikini Bra Sets Halter bikini Triangle cup imi...   \n",
       "..                                                 ...   \n",
       "675                Linen Chunri 3 Piece Suit for Women   \n",
       "676  chiffon embroidery suit chiffon embroidery dup...   \n",
       "677  Breathable Pregnant Ladies Postpartum Large Si...   \n",
       "678  New Collection As Fashion Night wear Trousers ...   \n",
       "679  Pack of 3 Breathable Soft Cotton Sports Pantie...   \n",
       "\n",
       "                                            productUrl originalPrice    price  \\\n",
       "0    www.daraz.pk/products/silk-bikini-set-for-wome...        700.00   399.00   \n",
       "1    www.daraz.pk/products/bikinis-bra-set-for-wome...       1000.00   549.00   \n",
       "2    www.daraz.pk/products/pack-of-3-satin-silk-bik...          None   999.00   \n",
       "3    www.daraz.pk/products/women-stylish-pearl-bead...       1700.00  1399.00   \n",
       "4    www.daraz.pk/products/bikini-bra-sets-halter-b...        789.00      334   \n",
       "..                                                 ...           ...      ...   \n",
       "675  www.daraz.pk/products/linen-chunri-3-piece-sui...       2950.00  2150.00   \n",
       "676  www.daraz.pk/products/party-wear-wedding-wear-...       6400.00     3465   \n",
       "677  www.daraz.pk/products/breathable-pregnant-ladi...       1000.00   649.00   \n",
       "678  www.daraz.pk/products/new-collection-as-fashio...       1399.00   999.00   \n",
       "679  www.daraz.pk/products/pack-of-3-breathable-sof...        999.00   699.00   \n",
       "\n",
       "    discount ratingScore review  inStock  location  \\\n",
       "0       -43%           5      1     True  Pakistan   \n",
       "1       -45%           5      1     True  Pakistan   \n",
       "2       None           5      1     True  Pakistan   \n",
       "3       -18%     4.61538     13     True  Pakistan   \n",
       "4       -58%           5      1     True  Pakistan   \n",
       "..       ...         ...    ...      ...       ...   \n",
       "675     -27%           5      1     True  Pakistan   \n",
       "676     -46%           5      1     True  Pakistan   \n",
       "677     -35%           5      1     True  Pakistan   \n",
       "678     -29%           4      2     True  Pakistan   \n",
       "679     -30%           4      4     True  Pakistan   \n",
       "\n",
       "                                                 image  \\\n",
       "0    https://static-01.daraz.pk/p/4b4634146065c2e94...   \n",
       "1    https://static-01.daraz.pk/p/dd76199c416097c7e...   \n",
       "2    https://static-01.daraz.pk/p/92975c0f43035c7e8...   \n",
       "3    https://static-01.daraz.pk/p/mdc/7f7675ef1b1be...   \n",
       "4    https://static-01.daraz.pk/p/mdc/ae570cb3090f9...   \n",
       "..                                                 ...   \n",
       "675  https://static-01.daraz.pk/p/3cce06144e4f9409a...   \n",
       "676  https://static-01.daraz.pk/p/b04592557c5533202...   \n",
       "677  https://static-01.daraz.pk/p/06a23c2f8decb984e...   \n",
       "678  https://static-01.daraz.pk/p/390a7966cda7dba26...   \n",
       "679  https://static-01.daraz.pk/p/0d33cf1eda2dbc121...   \n",
       "\n",
       "                           Seller Name                      Brand Name  \\\n",
       "0                              Eighty4                         Eighty4   \n",
       "1                           LHR-eStore                      LHR-eStore   \n",
       "2                      BSM DISTRIBUTOR                BSM DISTRIBUTORS   \n",
       "3              Arsalan Aleem (Karachi)                    IDOL Fashion   \n",
       "4                        Sassy Secrets                          Hotzzz   \n",
       "..                                 ...                             ...   \n",
       "675     Qasoor Makesh and Chunri House  Qasoor Makesh and Chunri House   \n",
       "676                    one world cloth                      cloth suit   \n",
       "677                    Hedge Over Mall                      Hedge Over   \n",
       "678                         As fashion                        As uddin   \n",
       "679  Shezz bro Industries (Rawalpindi)                           shezz   \n",
       "\n",
       "         Seller Id    Item Id  \n",
       "0    6005007810287  139468462  \n",
       "1    6005010273052  167244427  \n",
       "2          1057017  143666427  \n",
       "3             1621  146548225  \n",
       "4          1059459  129256223  \n",
       "..             ...        ...  \n",
       "675        1145205  152612596  \n",
       "676        1104773  132398592  \n",
       "677        1045320  150686837  \n",
       "678        1037667  153268085  \n",
       "679          25123  139678081  \n",
       "\n",
       "[680 rows x 14 columns]"
      ]
     },
     "execution_count": 84,
     "metadata": {},
     "output_type": "execute_result"
    }
   ],
   "source": [
    "df"
   ]
  },
  {
   "cell_type": "code",
   "execution_count": 85,
   "metadata": {},
   "outputs": [],
   "source": [
    "df.to_csv(\"daraz/women/Daraz_rating3_45to61_6sept20.csv\")"
   ]
  },
  {
   "cell_type": "code",
   "execution_count": 134,
   "metadata": {},
   "outputs": [],
   "source": [
    "#pageSize= int(todos['mainInfo']['pageSize'])\n",
    "#pageSize"
   ]
  },
  {
   "cell_type": "code",
   "execution_count": 135,
   "metadata": {},
   "outputs": [],
   "source": [
    "#pageNo= todos['mainInfo']['page']\n",
    "#pageNo"
   ]
  },
  {
   "cell_type": "code",
   "execution_count": 136,
   "metadata": {},
   "outputs": [],
   "source": [
    "#xUrl=(\"https://www.daraz.pk/bath/?ajax=true&page=\")"
   ]
  },
  {
   "cell_type": "code",
   "execution_count": 137,
   "metadata": {},
   "outputs": [],
   "source": [
    "#partUrl=(\"&rating=3\")\n",
    "#numUrl=3"
   ]
  },
  {
   "cell_type": "code",
   "execution_count": 138,
   "metadata": {},
   "outputs": [],
   "source": [
    "#nUrl=(xUrl+str(numUrl)+partUrl)\n",
    "#print(nUrl)"
   ]
  },
  {
   "cell_type": "code",
   "execution_count": null,
   "metadata": {},
   "outputs": [],
   "source": []
  }
 ],
 "metadata": {
  "kernelspec": {
   "display_name": "Python 3",
   "language": "python",
   "name": "python3"
  },
  "language_info": {
   "codemirror_mode": {
    "name": "ipython",
    "version": 3
   },
   "file_extension": ".py",
   "mimetype": "text/x-python",
   "name": "python",
   "nbconvert_exporter": "python",
   "pygments_lexer": "ipython3",
   "version": "3.8.3"
  }
 },
 "nbformat": 4,
 "nbformat_minor": 4
}
