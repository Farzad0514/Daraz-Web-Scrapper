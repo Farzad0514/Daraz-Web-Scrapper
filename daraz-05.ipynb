{
 "cells": [
  {
   "cell_type": "code",
   "execution_count": 54,
   "metadata": {},
   "outputs": [
    {
     "name": "stdout",
     "output_type": "stream",
     "text": [
      "200\n"
     ]
    }
   ],
   "source": [
    "import requests\n",
    "import json\n",
    "from bs4 import BeautifulSoup\n",
    "import os\n",
    "import pandas\n",
    "\n",
    "os.chdir(r'C:\\Users\\Farzad\\Python')\n",
    "#os.mkdir('daraz') \n",
    "#os.chdir(r'C:\\Users\\Farzad\\Python\\daraz')\n",
    "url=\"https://www.daraz.pk/bath/?ajax=true&page=1\"\n",
    "ctgUrl=\"https://www.daraz.pk/bath/\"\n",
    "ctgRes=requests.get(ctgUrl)\n",
    "res=requests.get(url)\n",
    "\n",
    "print(res.status_code)"
   ]
  },
  {
   "cell_type": "code",
   "execution_count": 55,
   "metadata": {},
   "outputs": [],
   "source": [
    "#soup=BeautifulSoup(ctgRes.content, \"html.parser\")"
   ]
  },
  {
   "cell_type": "code",
   "execution_count": 56,
   "metadata": {},
   "outputs": [],
   "source": [
    "#pageend=soup.find(\"class\", \"ant-pagination\")\n",
    "#print(pageend)"
   ]
  },
  {
   "cell_type": "code",
   "execution_count": 64,
   "metadata": {},
   "outputs": [
    {
     "data": {
      "text/plain": [
       "b'\\r\\n{\\n  \"rgv587_flag\": \"sm\", \\n  \"url\": \"https://www.daraz.pk:443//bath/_____tmd_____/punish?x5secdata=5e0c8e1365474455070961b803bd560607b52cabf5960afff39b64ce58073f78012dae8a376add8f7d5090538e1e563bcb80a1d11280bfd4955c983649d236c969fd1eb4598cdb51ba5b713ec720bc040536de03738a4f3eab8a99064564e2ad81de66ecf56ceefe58b43bc7d00cbc44524b2377b38c5a19331b3954a03b72e611324a8971ab0af72ff514151b817ea82730548566949e1f0794d08e670bc3c38955c7ac9dfe9800e5d59b661045436f5fd102e32437f7b8741ec5aa54e4ecf0dfae02cd8ed6ce28a51f0ce7a2e74ae2ad4a4219c667609fbec9fa5695755fdd0c077781bdc823bbd5a3f77134333539161a9bc51e2b1d9d1f5e6122b31ecd88e582738d636568ee0fe8aa8c89fbdd7f4a62ea5bc552f35d8c032f18997429ca09274b9d15c705ee819bcd8bb6ac8f11efbd036cb55260de299259e6da05e4c4e48066b16ec9743c6c3033ca3734c684cd7e9004cffd90b47945921dd0c1772d01352189b8db7e281861a19e379613e8c49bc6276a1bb5fe04737414a892bf0b4d7d4dec46c19b1bd0dcda83e0919ba3a97615c88d5f0f06986d0ba60c87f41a15f9c21b63c0a9b6be4f3b91befbac6f029f7dd033d921c93580a2eee6042be00798d012c9099156524695b641c0170780fff2cc7dbf6900fdfabbdf3ee28107f4ba9ba6bbe0e65d949fea45213777f446d7c07b418bd61930fcc7f43085f215805398fd918dbbd831c2f3a7440179a44f9dd6d0e97b0a50ae75dfa65d32e08a056650bfff10bfb3400aa8a2bc803c04&x5step=2\"\\n}'"
      ]
     },
     "execution_count": 64,
     "metadata": {},
     "output_type": "execute_result"
    }
   ],
   "source": [
    "res.content"
   ]
  },
  {
   "cell_type": "code",
   "execution_count": 61,
   "metadata": {},
   "outputs": [
    {
     "data": {
      "text/plain": [
       "{'rgv587_flag': 'sm',\n",
       " 'url': 'https://www.daraz.pk:443//bath/_____tmd_____/punish?x5secdata=5e0c8e1365474455070961b803bd560607b52cabf5960afff39b64ce58073f78012dae8a376add8f7d5090538e1e563bcb80a1d11280bfd4955c983649d236c969fd1eb4598cdb51ba5b713ec720bc040536de03738a4f3eab8a99064564e2ad81de66ecf56ceefe58b43bc7d00cbc44524b2377b38c5a19331b3954a03b72e611324a8971ab0af72ff514151b817ea82730548566949e1f0794d08e670bc3c38955c7ac9dfe9800e5d59b661045436f5fd102e32437f7b8741ec5aa54e4ecf0dfae02cd8ed6ce28a51f0ce7a2e74ae2ad4a4219c667609fbec9fa5695755fdd0c077781bdc823bbd5a3f77134333539161a9bc51e2b1d9d1f5e6122b31ecd88e582738d636568ee0fe8aa8c89fbdd7f4a62ea5bc552f35d8c032f18997429ca09274b9d15c705ee819bcd8bb6ac8f11efbd036cb55260de299259e6da05e4c4e48066b16ec9743c6c3033ca3734c684cd7e9004cffd90b47945921dd0c1772d01352189b8db7e281861a19e379613e8c49bc6276a1bb5fe04737414a892bf0b4d7d4dec46c19b1bd0dcda83e0919ba3a97615c88d5f0f06986d0ba60c87f41a15f9c21b63c0a9b6be4f3b91befbac6f029f7dd033d921c93580a2eee6042be00798d012c9099156524695b641c0170780fff2cc7dbf6900fdfabbdf3ee28107f4ba9ba6bbe0e65d949fea45213777f446d7c07b418bd61930fcc7f43085f215805398fd918dbbd831c2f3a7440179a44f9dd6d0e97b0a50ae75dfa65d32e08a056650bfff10bfb3400aa8a2bc803c04&x5step=2'}"
      ]
     },
     "execution_count": 61,
     "metadata": {},
     "output_type": "execute_result"
    }
   ],
   "source": [
    "todos = json.loads(res.text)\n",
    "todos"
   ]
  },
  {
   "cell_type": "code",
   "execution_count": 58,
   "metadata": {},
   "outputs": [
    {
     "data": {
      "text/plain": [
       "dict"
      ]
     },
     "execution_count": 58,
     "metadata": {},
     "output_type": "execute_result"
    }
   ],
   "source": [
    "type(todos)"
   ]
  },
  {
   "cell_type": "code",
   "execution_count": 59,
   "metadata": {},
   "outputs": [
    {
     "ename": "KeyError",
     "evalue": "'mods'",
     "output_type": "error",
     "traceback": [
      "\u001b[1;31m---------------------------------------------------------------------------\u001b[0m",
      "\u001b[1;31mKeyError\u001b[0m                                  Traceback (most recent call last)",
      "\u001b[1;32m<ipython-input-59-ac8dc2014966>\u001b[0m in \u001b[0;36m<module>\u001b[1;34m\u001b[0m\n\u001b[1;32m----> 1\u001b[1;33m \u001b[0mlistitems\u001b[0m\u001b[1;33m=\u001b[0m \u001b[0mtodos\u001b[0m\u001b[1;33m[\u001b[0m\u001b[1;34m'mods'\u001b[0m\u001b[1;33m]\u001b[0m\u001b[1;33m[\u001b[0m\u001b[1;34m'listItems'\u001b[0m\u001b[1;33m]\u001b[0m\u001b[1;33m\u001b[0m\u001b[1;33m\u001b[0m\u001b[0m\n\u001b[0m\u001b[0;32m      2\u001b[0m \u001b[0mlistitems\u001b[0m\u001b[1;33m\u001b[0m\u001b[1;33m\u001b[0m\u001b[0m\n",
      "\u001b[1;31mKeyError\u001b[0m: 'mods'"
     ]
    }
   ],
   "source": [
    "listitems= todos['mods']['listItems']\n",
    "listitems"
   ]
  },
  {
   "cell_type": "code",
   "execution_count": 49,
   "metadata": {},
   "outputs": [
    {
     "data": {
      "text/plain": [
       "dict_keys(['rgv587_flag', 'url'])"
      ]
     },
     "execution_count": 49,
     "metadata": {},
     "output_type": "execute_result"
    }
   ],
   "source": [
    "error=todos.keys()\n",
    "error"
   ]
  },
  {
   "cell_type": "code",
   "execution_count": 50,
   "metadata": {},
   "outputs": [
    {
     "name": "stdout",
     "output_type": "stream",
     "text": [
      "sm\n"
     ]
    }
   ],
   "source": [
    "print(todos['rgv587_flag'])"
   ]
  },
  {
   "cell_type": "code",
   "execution_count": 35,
   "metadata": {},
   "outputs": [],
   "source": [
    "#len(listitems)"
   ]
  },
  {
   "cell_type": "code",
   "execution_count": 36,
   "metadata": {},
   "outputs": [],
   "source": [
    "#type(listitems)"
   ]
  },
  {
   "cell_type": "code",
   "execution_count": 37,
   "metadata": {},
   "outputs": [],
   "source": [
    "#pageNo= int(todos['mainInfo']['page'])\n",
    "#pageNo"
   ]
  },
  {
   "cell_type": "code",
   "execution_count": 38,
   "metadata": {},
   "outputs": [],
   "source": [
    "#listitems[0]"
   ]
  },
  {
   "cell_type": "code",
   "execution_count": 39,
   "metadata": {
    "scrolled": true
   },
   "outputs": [],
   "source": [
    "#listitems[0]['name']"
   ]
  },
  {
   "cell_type": "code",
   "execution_count": 40,
   "metadata": {},
   "outputs": [],
   "source": [
    "#listitems[0]['productUrl'].replace(\"/\", \"\")"
   ]
  },
  {
   "cell_type": "code",
   "execution_count": 41,
   "metadata": {},
   "outputs": [],
   "source": [
    "#df=pd.read(todos)"
   ]
  },
  {
   "cell_type": "code",
   "execution_count": 42,
   "metadata": {
    "scrolled": true
   },
   "outputs": [],
   "source": [
    "#m.to_csv(\"Output.csv\")"
   ]
  },
  {
   "cell_type": "code",
   "execution_count": 43,
   "metadata": {
    "scrolled": true
   },
   "outputs": [],
   "source": [
    "#import pandas\n",
    "#df=pandas.DataFrame(res)"
   ]
  },
  {
   "cell_type": "code",
   "execution_count": 44,
   "metadata": {},
   "outputs": [],
   "source": [
    "#df"
   ]
  },
  {
   "cell_type": "markdown",
   "metadata": {},
   "source": [
    "for i in range(1,40):\n",
    "    print(listitems[i]['name'])\n",
    "    print(listitems[i]['productUrl'])\n",
    "    print(listitems[i]['priceShow'])\n",
    "    try: print(listitems[i]['discount'])\n",
    "    except: print(None)\n",
    "    print(listitems[i]['ratingScore'])\n",
    "    print(listitems[i]['inStock'])\n",
    "    print(listitems[i]['location'])\n",
    "    print(listitems[i]['image'])\n",
    "    print(listitems[i]['sellerName'])\n",
    "    print(listitems[i]['brandName'])\n",
    "    print(listitems[i]['sellerId'])\n",
    "    print()"
   ]
  },
  {
   "cell_type": "code",
   "execution_count": null,
   "metadata": {},
   "outputs": [],
   "source": []
  },
  {
   "cell_type": "code",
   "execution_count": 45,
   "metadata": {},
   "outputs": [
    {
     "name": "stdout",
     "output_type": "stream",
     "text": [
      "https://www.daraz.pk/bath/?ajax=true&page=1\n"
     ]
    },
    {
     "ename": "KeyError",
     "evalue": "'mods'",
     "output_type": "error",
     "traceback": [
      "\u001b[1;31m---------------------------------------------------------------------------\u001b[0m",
      "\u001b[1;31mKeyError\u001b[0m                                  Traceback (most recent call last)",
      "\u001b[1;32m<ipython-input-45-99ae8302769f>\u001b[0m in \u001b[0;36m<module>\u001b[1;34m\u001b[0m\n\u001b[0;32m     13\u001b[0m     \u001b[1;31m#len(all)\u001b[0m\u001b[1;33m\u001b[0m\u001b[1;33m\u001b[0m\u001b[1;33m\u001b[0m\u001b[0m\n\u001b[0;32m     14\u001b[0m     \u001b[0mtodos\u001b[0m \u001b[1;33m=\u001b[0m \u001b[0mjson\u001b[0m\u001b[1;33m.\u001b[0m\u001b[0mloads\u001b[0m\u001b[1;33m(\u001b[0m\u001b[0mres\u001b[0m\u001b[1;33m.\u001b[0m\u001b[0mtext\u001b[0m\u001b[1;33m)\u001b[0m\u001b[1;33m\u001b[0m\u001b[1;33m\u001b[0m\u001b[0m\n\u001b[1;32m---> 15\u001b[1;33m     \u001b[0mlistitems\u001b[0m\u001b[1;33m=\u001b[0m \u001b[0mtodos\u001b[0m\u001b[1;33m[\u001b[0m\u001b[1;34m'mods'\u001b[0m\u001b[1;33m]\u001b[0m\u001b[1;33m[\u001b[0m\u001b[1;34m'listItems'\u001b[0m\u001b[1;33m]\u001b[0m\u001b[1;33m\u001b[0m\u001b[1;33m\u001b[0m\u001b[0m\n\u001b[0m\u001b[0;32m     16\u001b[0m     \u001b[0mpageSize\u001b[0m\u001b[1;33m=\u001b[0m \u001b[0mtodos\u001b[0m\u001b[1;33m[\u001b[0m\u001b[1;34m'mainInfo'\u001b[0m\u001b[1;33m]\u001b[0m\u001b[1;33m[\u001b[0m\u001b[1;34m'pageSize'\u001b[0m\u001b[1;33m]\u001b[0m\u001b[1;33m\u001b[0m\u001b[1;33m\u001b[0m\u001b[0m\n\u001b[0;32m     17\u001b[0m     \u001b[1;31m#p=p+1\u001b[0m\u001b[1;33m\u001b[0m\u001b[1;33m\u001b[0m\u001b[1;33m\u001b[0m\u001b[0m\n",
      "\u001b[1;31mKeyError\u001b[0m: 'mods'"
     ]
    }
   ],
   "source": [
    "l=[]\n",
    "base_url=(\"https://www.daraz.pk/bath/?ajax=true&page=\")\n",
    "#p+=pageNo\n",
    "p=102\n",
    "#pageNo= int(todos['mainInfo']['page'])\n",
    "for page in range(1,p):\n",
    "    print(base_url+str(page))\n",
    "    res=requests.get(base_url+str(page))\n",
    "    #print(site.status_code)\n",
    "    #soup=BeautifulSoup(site.content, \"html.parser\")\n",
    "    #print(soup.prettify())\n",
    "    #all=soup.find_all(\"div\", {\"class\": [\"product-info\"]})\n",
    "    #len(all)\n",
    "    todos = json.loads(res.text)\n",
    "    listitems= todos['mods']['listItems']\n",
    "    pageSize= todos['mainInfo']['pageSize']\n",
    "    #p=p+1\n",
    "\n",
    "    for i in range(0, int(pageSize)):\n",
    "        d={}\n",
    "        d['name']=listitems[i]['name']\n",
    "        d['productUrl']=listitems[i]['productUrl']\n",
    "        try: d['price']=listitems[i]['priceShow']\n",
    "        except: d['price']=None\n",
    "        try: d['discount']=listitems[i]['discount']\n",
    "        except:d['discount']= None\n",
    "        try: d['ratingScore']=listitems[i]['ratingScore']\n",
    "        except: d['ratingScore']=None\n",
    "        try: d['inStock']=listitems[i]['inStock']\n",
    "        except: d['inStock']=None\n",
    "        try: d['location']=listitems[i]['location']\n",
    "        except: d['location']=None\n",
    "        d['image']=listitems[i]['image']\n",
    "        d['Seller Name']=listitems[i]['sellerName']\n",
    "        try: d['Brand Name']=listitems[i]['brandName']\n",
    "        except: d['Brand Name']=None\n",
    "        d['Seller Id']=listitems[i]['sellerId']\n",
    "        l.append(d)\n",
    "    "
   ]
  },
  {
   "cell_type": "code",
   "execution_count": 19,
   "metadata": {},
   "outputs": [
    {
     "data": {
      "text/plain": [
       "3960"
      ]
     },
     "execution_count": 19,
     "metadata": {},
     "output_type": "execute_result"
    }
   ],
   "source": [
    "len(l)"
   ]
  },
  {
   "cell_type": "code",
   "execution_count": 20,
   "metadata": {},
   "outputs": [],
   "source": [
    "#l"
   ]
  },
  {
   "cell_type": "code",
   "execution_count": 21,
   "metadata": {},
   "outputs": [],
   "source": [
    "df=pandas.DataFrame(l)"
   ]
  },
  {
   "cell_type": "code",
   "execution_count": 22,
   "metadata": {},
   "outputs": [],
   "source": [
    "#df"
   ]
  },
  {
   "cell_type": "code",
   "execution_count": 23,
   "metadata": {},
   "outputs": [],
   "source": [
    "df.to_csv(\"daraz/Daraz_v3_3sept20.csv\")"
   ]
  },
  {
   "cell_type": "code",
   "execution_count": 24,
   "metadata": {},
   "outputs": [],
   "source": [
    "#pageSize= int(todos['mainInfo']['pageSize'])\n",
    "#pageSize"
   ]
  },
  {
   "cell_type": "code",
   "execution_count": null,
   "metadata": {},
   "outputs": [],
   "source": [
    "#pageNo= todos['mainInfo']['page']\n",
    "#pageNo"
   ]
  },
  {
   "cell_type": "code",
   "execution_count": null,
   "metadata": {},
   "outputs": [],
   "source": []
  },
  {
   "cell_type": "code",
   "execution_count": null,
   "metadata": {},
   "outputs": [],
   "source": []
  },
  {
   "cell_type": "code",
   "execution_count": null,
   "metadata": {},
   "outputs": [],
   "source": []
  },
  {
   "cell_type": "code",
   "execution_count": null,
   "metadata": {},
   "outputs": [],
   "source": []
  },
  {
   "cell_type": "code",
   "execution_count": null,
   "metadata": {},
   "outputs": [],
   "source": []
  },
  {
   "cell_type": "code",
   "execution_count": null,
   "metadata": {},
   "outputs": [],
   "source": []
  },
  {
   "cell_type": "code",
   "execution_count": null,
   "metadata": {},
   "outputs": [],
   "source": []
  },
  {
   "cell_type": "code",
   "execution_count": null,
   "metadata": {},
   "outputs": [],
   "source": []
  }
 ],
 "metadata": {
  "kernelspec": {
   "display_name": "Python 3",
   "language": "python",
   "name": "python3"
  },
  "language_info": {
   "codemirror_mode": {
    "name": "ipython",
    "version": 3
   },
   "file_extension": ".py",
   "mimetype": "text/x-python",
   "name": "python",
   "nbconvert_exporter": "python",
   "pygments_lexer": "ipython3",
   "version": "3.8.3"
  }
 },
 "nbformat": 4,
 "nbformat_minor": 4
}
