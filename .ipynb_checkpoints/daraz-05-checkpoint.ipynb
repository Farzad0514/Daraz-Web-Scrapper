{
 "cells": [
  {
   "cell_type": "code",
   "execution_count": 1,
   "metadata": {},
   "outputs": [
    {
     "name": "stdout",
     "output_type": "stream",
     "text": [
      "200\n"
     ]
    }
   ],
   "source": [
    "import requests\n",
    "import json\n",
    "from bs4 import BeautifulSoup\n",
    "import os\n",
    "import pandas\n",
    "\n",
    "os.chdir(r'C:\\Users\\Farzad\\Python')\n",
    "#os.mkdir('daraz') \n",
    "#os.chdir(r'C:\\Users\\Farzad\\Python\\daraz')\n",
    "url=\"https://www.daraz.pk/bath/?ajax=true&page=1\"\n",
    "ctgUrl=\"https://www.daraz.pk/bath/\"\n",
    "ctgRes=requests.get(ctgUrl)\n",
    "res=requests.get(url)\n",
    "\n",
    "print(res.status_code)"
   ]
  },
  {
   "cell_type": "code",
   "execution_count": 2,
   "metadata": {},
   "outputs": [],
   "source": [
    "#soup=BeautifulSoup(ctgRes.content, \"html.parser\")"
   ]
  },
  {
   "cell_type": "code",
   "execution_count": 3,
   "metadata": {},
   "outputs": [],
   "source": [
    "#pageend=soup.find(\"class\", \"ant-pagination\")\n",
    "#print(pageend)"
   ]
  },
  {
   "cell_type": "code",
   "execution_count": 4,
   "metadata": {},
   "outputs": [],
   "source": [
    "#todos = json.loads(res.text)"
   ]
  },
  {
   "cell_type": "code",
   "execution_count": 5,
   "metadata": {},
   "outputs": [],
   "source": [
    "#type(todos)"
   ]
  },
  {
   "cell_type": "code",
   "execution_count": 6,
   "metadata": {},
   "outputs": [],
   "source": [
    "#listitems= todos['mods']['listItems']\n",
    "#listitems"
   ]
  },
  {
   "cell_type": "code",
   "execution_count": 7,
   "metadata": {},
   "outputs": [],
   "source": [
    "#len(listitems)"
   ]
  },
  {
   "cell_type": "code",
   "execution_count": 8,
   "metadata": {},
   "outputs": [],
   "source": [
    "#type(listitems)"
   ]
  },
  {
   "cell_type": "code",
   "execution_count": 9,
   "metadata": {},
   "outputs": [],
   "source": [
    "#pageNo= int(todos['mainInfo']['page'])\n",
    "#pageNo"
   ]
  },
  {
   "cell_type": "code",
   "execution_count": 10,
   "metadata": {},
   "outputs": [],
   "source": [
    "#listitems[0]"
   ]
  },
  {
   "cell_type": "code",
   "execution_count": 11,
   "metadata": {
    "scrolled": true
   },
   "outputs": [],
   "source": [
    "#listitems[0]['name']"
   ]
  },
  {
   "cell_type": "code",
   "execution_count": 12,
   "metadata": {},
   "outputs": [],
   "source": [
    "#listitems[0]['productUrl'].replace(\"/\", \"\")"
   ]
  },
  {
   "cell_type": "code",
   "execution_count": 13,
   "metadata": {},
   "outputs": [],
   "source": [
    "#df=pd.read(todos)"
   ]
  },
  {
   "cell_type": "code",
   "execution_count": 14,
   "metadata": {
    "scrolled": true
   },
   "outputs": [],
   "source": [
    "#m.to_csv(\"Output.csv\")"
   ]
  },
  {
   "cell_type": "code",
   "execution_count": 15,
   "metadata": {
    "scrolled": true
   },
   "outputs": [],
   "source": [
    "#import pandas\n",
    "#df=pandas.DataFrame(res)"
   ]
  },
  {
   "cell_type": "code",
   "execution_count": 16,
   "metadata": {},
   "outputs": [],
   "source": [
    "#df"
   ]
  },
  {
   "cell_type": "markdown",
   "metadata": {},
   "source": [
    "for i in range(1,40):\n",
    "    print(listitems[i]['name'])\n",
    "    print(listitems[i]['productUrl'])\n",
    "    print(listitems[i]['priceShow'])\n",
    "    try: print(listitems[i]['discount'])\n",
    "    except: print(None)\n",
    "    print(listitems[i]['ratingScore'])\n",
    "    print(listitems[i]['inStock'])\n",
    "    print(listitems[i]['location'])\n",
    "    print(listitems[i]['image'])\n",
    "    print(listitems[i]['sellerName'])\n",
    "    print(listitems[i]['brandName'])\n",
    "    print(listitems[i]['sellerId'])\n",
    "    print()"
   ]
  },
  {
   "cell_type": "code",
   "execution_count": 17,
   "metadata": {},
   "outputs": [],
   "source": []
  },
  {
   "cell_type": "code",
   "execution_count": 19,
   "metadata": {},
   "outputs": [
    {
     "ename": "NameError",
     "evalue": "name 'todos' is not defined",
     "output_type": "error",
     "traceback": [
      "\u001b[1;31m---------------------------------------------------------------------------\u001b[0m",
      "\u001b[1;31mNameError\u001b[0m                                 Traceback (most recent call last)",
      "\u001b[1;32m<ipython-input-19-2b55e44a1cc0>\u001b[0m in \u001b[0;36m<module>\u001b[1;34m\u001b[0m\n\u001b[0;32m      2\u001b[0m \u001b[0mbase_url\u001b[0m\u001b[1;33m=\u001b[0m\u001b[1;33m(\u001b[0m\u001b[1;34m\"https://www.daraz.pk/bath/?ajax=true&page=\"\u001b[0m\u001b[1;33m)\u001b[0m\u001b[1;33m\u001b[0m\u001b[1;33m\u001b[0m\u001b[0m\n\u001b[0;32m      3\u001b[0m \u001b[1;31m#p+=pageNo\u001b[0m\u001b[1;33m\u001b[0m\u001b[1;33m\u001b[0m\u001b[1;33m\u001b[0m\u001b[0m\n\u001b[1;32m----> 4\u001b[1;33m \u001b[0mpageNo\u001b[0m\u001b[1;33m=\u001b[0m \u001b[0mint\u001b[0m\u001b[1;33m(\u001b[0m\u001b[0mtodos\u001b[0m\u001b[1;33m[\u001b[0m\u001b[1;34m'mainInfo'\u001b[0m\u001b[1;33m]\u001b[0m\u001b[1;33m[\u001b[0m\u001b[1;34m'page'\u001b[0m\u001b[1;33m]\u001b[0m\u001b[1;33m)\u001b[0m\u001b[1;33m\u001b[0m\u001b[1;33m\u001b[0m\u001b[0m\n\u001b[0m\u001b[0;32m      5\u001b[0m \u001b[1;32mfor\u001b[0m \u001b[0mpage\u001b[0m \u001b[1;32min\u001b[0m \u001b[0mrange\u001b[0m\u001b[1;33m(\u001b[0m\u001b[1;36m1\u001b[0m\u001b[1;33m,\u001b[0m\u001b[0mp\u001b[0m\u001b[1;33m)\u001b[0m\u001b[1;33m:\u001b[0m\u001b[1;33m\u001b[0m\u001b[1;33m\u001b[0m\u001b[0m\n\u001b[0;32m      6\u001b[0m     \u001b[0mprint\u001b[0m\u001b[1;33m(\u001b[0m\u001b[0mbase_url\u001b[0m\u001b[1;33m+\u001b[0m\u001b[0mstr\u001b[0m\u001b[1;33m(\u001b[0m\u001b[0mpage\u001b[0m\u001b[1;33m)\u001b[0m\u001b[1;33m)\u001b[0m\u001b[1;33m\u001b[0m\u001b[1;33m\u001b[0m\u001b[0m\n",
      "\u001b[1;31mNameError\u001b[0m: name 'todos' is not defined"
     ]
    }
   ],
   "source": [
    "l=[]\n",
    "base_url=(\"https://www.daraz.pk/bath/?ajax=true&page=\")\n",
    "#p+=pageNo\n",
    "p=102\n",
    "#pageNo= int(todos['mainInfo']['page'])\n",
    "for page in range(1,p):\n",
    "    print(base_url+str(page))\n",
    "    res=requests.get(base_url+str(page))\n",
    "    #print(site.status_code)\n",
    "    #soup=BeautifulSoup(site.content, \"html.parser\")\n",
    "    #print(soup.prettify())\n",
    "    #all=soup.find_all(\"div\", {\"class\": [\"product-info\"]})\n",
    "    #len(all)\n",
    "    todos = json.loads(res.text)\n",
    "    listitems= todos['mods']['listItems']\n",
    "    pageSize= todos['mainInfo']['pageSize']\n",
    "    #p=p+1\n",
    "\n",
    "    for i in range(0, int(pageSize)):\n",
    "        d={}\n",
    "        d['name']=listitems[i]['name']\n",
    "        d['productUrl']=listitems[i]['productUrl']\n",
    "        try: d['price']=listitems[i]['priceShow']\n",
    "        except: d['price']=None\n",
    "        try: d['discount']=listitems[i]['discount']\n",
    "        except:d['discount']= None\n",
    "        try: d['ratingScore']=listitems[i]['ratingScore']\n",
    "        except: d['ratingScore']=None\n",
    "        try: d['inStock']=listitems[i]['inStock']\n",
    "        except: d['inStock']=None\n",
    "        try: d['location']=listitems[i]['location']\n",
    "        except: d['location']=None\n",
    "        d['image']=listitems[i]['image']\n",
    "        d['Seller Name']=listitems[i]['sellerName']\n",
    "        try: d['Brand Name']=listitems[i]['brandName']\n",
    "        except: d['Brand Name']=None\n",
    "        d['Seller Id']=listitems[i]['sellerId']\n",
    "        l.append(d)\n",
    "    "
   ]
  },
  {
   "cell_type": "code",
   "execution_count": null,
   "metadata": {},
   "outputs": [],
   "source": [
    "len(l)"
   ]
  },
  {
   "cell_type": "code",
   "execution_count": null,
   "metadata": {},
   "outputs": [],
   "source": [
    "#l"
   ]
  },
  {
   "cell_type": "code",
   "execution_count": null,
   "metadata": {},
   "outputs": [],
   "source": [
    "df=pandas.DataFrame(l)"
   ]
  },
  {
   "cell_type": "code",
   "execution_count": null,
   "metadata": {},
   "outputs": [],
   "source": [
    "#df"
   ]
  },
  {
   "cell_type": "code",
   "execution_count": null,
   "metadata": {},
   "outputs": [],
   "source": [
    "df.to_csv(\"daraz/Daraz_v3_3sept20.csv\")"
   ]
  },
  {
   "cell_type": "code",
   "execution_count": null,
   "metadata": {},
   "outputs": [],
   "source": [
    "#pageSize= int(todos['mainInfo']['pageSize'])\n",
    "#pageSize"
   ]
  },
  {
   "cell_type": "code",
   "execution_count": null,
   "metadata": {},
   "outputs": [],
   "source": [
    "#pageNo= todos['mainInfo']['page']\n",
    "#pageNo"
   ]
  },
  {
   "cell_type": "code",
   "execution_count": null,
   "metadata": {},
   "outputs": [],
   "source": []
  },
  {
   "cell_type": "code",
   "execution_count": null,
   "metadata": {},
   "outputs": [],
   "source": []
  },
  {
   "cell_type": "code",
   "execution_count": null,
   "metadata": {},
   "outputs": [],
   "source": []
  },
  {
   "cell_type": "code",
   "execution_count": null,
   "metadata": {},
   "outputs": [],
   "source": []
  },
  {
   "cell_type": "code",
   "execution_count": null,
   "metadata": {},
   "outputs": [],
   "source": []
  },
  {
   "cell_type": "code",
   "execution_count": null,
   "metadata": {},
   "outputs": [],
   "source": []
  },
  {
   "cell_type": "code",
   "execution_count": null,
   "metadata": {},
   "outputs": [],
   "source": []
  },
  {
   "cell_type": "code",
   "execution_count": null,
   "metadata": {},
   "outputs": [],
   "source": []
  }
 ],
 "metadata": {
  "kernelspec": {
   "display_name": "Python 3",
   "language": "python",
   "name": "python3"
  },
  "language_info": {
   "codemirror_mode": {
    "name": "ipython",
    "version": 3
   },
   "file_extension": ".py",
   "mimetype": "text/x-python",
   "name": "python",
   "nbconvert_exporter": "python",
   "pygments_lexer": "ipython3",
   "version": "3.8.3"
  }
 },
 "nbformat": 4,
 "nbformat_minor": 4
}
